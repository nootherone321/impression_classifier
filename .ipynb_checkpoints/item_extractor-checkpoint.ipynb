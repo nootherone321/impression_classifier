{
 "cells": [
  {
   "cell_type": "code",
   "execution_count": 10,
   "metadata": {},
   "outputs": [],
   "source": [
    "#from urllib.request import urlopen as uReq\n",
    "from bs4 import BeautifulSoup as soup\n",
    "from re import sub"
   ]
  },
  {
   "cell_type": "code",
   "execution_count": 21,
   "metadata": {},
   "outputs": [],
   "source": [
    "input = './input/output.html'\n",
    "output = './output/'\n",
    "filename_new = 'output_items.csv'"
   ]
  },
  {
   "cell_type": "code",
   "execution_count": 23,
   "metadata": {},
   "outputs": [],
   "source": [
    "g = open(input, \"r\", encoding='utf-8')\n",
    "f = open(output + filename_new, \"w\", encoding='utf-8')\n",
    "headers = \"section, item\\n\"\n",
    "f.write(headers)\n",
    "\n",
    "page_soup = soup( g.read() , \"html.parser\")\n",
    "containers = page_soup.findAll(\"div\",{\"class\":\"section\"})\n",
    "\n",
    "\n",
    "for container in containers:\n",
    "    section_title = container.findAll(\"h1\")[0].text\n",
    "    item_container = container.findAll(\"div\",{\"class\":\"item\"})\n",
    "    for item in item_container:\n",
    "        f.write(section_title + ',' + str(item) + '\\n')"
   ]
  },
  {
   "cell_type": "code",
   "execution_count": 24,
   "metadata": {},
   "outputs": [],
   "source": [
    "f.close()"
   ]
  }
 ],
 "metadata": {
  "kernelspec": {
   "display_name": "Python 3",
   "language": "python",
   "name": "python3"
  },
  "language_info": {
   "codemirror_mode": {
    "name": "ipython",
    "version": 3
   },
   "file_extension": ".py",
   "mimetype": "text/x-python",
   "name": "python",
   "nbconvert_exporter": "python",
   "pygments_lexer": "ipython3",
   "version": "3.7.0"
  }
 },
 "nbformat": 4,
 "nbformat_minor": 2
}
